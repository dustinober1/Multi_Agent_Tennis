{
 "cells": [
  {
   "cell_type": "markdown",
   "metadata": {},
   "source": [
    "# Collaboration and Competition\n",
    "\n",
    "---\n",
    "\n",
    "You are welcome to use this coding environment to train your agent for the project.  Follow the instructions below to get started!\n",
    "\n",
    "### 1. Start the Environment\n",
    "\n",
    "Run the next code cell to install a few packages.  This line will take a few minutes to run!"
   ]
  },
  {
   "cell_type": "code",
   "execution_count": null,
   "metadata": {},
   "outputs": [],
   "source": [
    "!pip install ."
   ]
  },
  {
   "cell_type": "code",
   "execution_count": null,
   "metadata": {},
   "outputs": [],
   "source": [
    "!pip install protobuf==3.20.3"
   ]
  },
  {
   "cell_type": "markdown",
   "metadata": {},
   "source": [
    "## Restart the Kernel\n",
    "Restart the Kernel, and verify the protobuf version. "
   ]
  },
  {
   "cell_type": "code",
   "execution_count": null,
   "metadata": {},
   "outputs": [],
   "source": [
    "import google.protobuf\n",
    "print(google.protobuf.__version__)"
   ]
  },
  {
   "cell_type": "markdown",
   "metadata": {},
   "source": [
    "\n",
    "## Instructions\n",
    "The environment is already saved in the Workspace and can be accessed at the file path provided below. "
   ]
  },
  {
   "cell_type": "code",
   "execution_count": null,
   "metadata": {},
   "outputs": [],
   "source": [
    "from unityagents import UnityEnvironment\n",
    "import numpy as np\n",
    "\n",
    "env = UnityEnvironment(file_name=\"/data/Tennis_Linux_NoVis/Tennis\")"
   ]
  },
  {
   "cell_type": "markdown",
   "metadata": {},
   "source": [
    "Environments contain **_brains_** which are responsible for deciding the actions of their associated agents. Here we check for the first brain available, and set it as the default brain we will be controlling from Python."
   ]
  },
  {
   "cell_type": "code",
   "execution_count": null,
   "metadata": {},
   "outputs": [],
   "source": [
    "# get the default brain\n",
    "brain_name = env.brain_names[0]\n",
    "brain = env.brains[brain_name]"
   ]
  },
  {
   "cell_type": "markdown",
   "metadata": {},
   "source": [
    "### 2. Examine the State and Action Spaces\n",
    "\n",
    "Run the code cell below to print some information about the environment."
   ]
  },
  {
   "cell_type": "code",
   "execution_count": null,
   "metadata": {},
   "outputs": [],
   "source": [
    "# reset the environment\n",
    "env_info = env.reset(train_mode=True)[brain_name]\n",
    "\n",
    "# number of agents \n",
    "num_agents = len(env_info.agents)\n",
    "print('Number of agents:', num_agents)\n",
    "\n",
    "# size of each action\n",
    "action_size = brain.vector_action_space_size\n",
    "print('Size of each action:', action_size)\n",
    "\n",
    "# examine the state space \n",
    "states = env_info.vector_observations\n",
    "state_size = states.shape[1]\n",
    "print('There are {} agents. Each observes a state with length: {}'.format(states.shape[0], state_size))\n",
    "print('The state for the first agent looks like:', states[0])"
   ]
  },
  {
   "cell_type": "markdown",
   "metadata": {},
   "source": [
    "### 3. Take Random Actions in the Environment\n",
    "\n",
    "In the next code cell, you will learn how to use the Python API to control the agent and receive feedback from the environment.\n",
    "\n",
    "Note that **in this coding environment, you will not be able to watch the agents while they are training**, and you should set `train_mode=True` to restart the environment."
   ]
  },
  {
   "cell_type": "code",
   "execution_count": null,
   "metadata": {},
   "outputs": [],
   "source": [
    "for i in range(5):                                         # play game for 5 episodes\n",
    "    env_info = env.reset(train_mode=False)[brain_name]     # reset the environment    \n",
    "    states = env_info.vector_observations                  # get the current state (for each agent)\n",
    "    scores = np.zeros(num_agents)                          # initialize the score (for each agent)\n",
    "    while True:\n",
    "        actions = np.random.randn(num_agents, action_size) # select an action (for each agent)\n",
    "        actions = np.clip(actions, -1, 1)                  # all actions between -1 and 1\n",
    "        env_info = env.step(actions)[brain_name]           # send all actions to tne environment\n",
    "        next_states = env_info.vector_observations         # get next state (for each agent)\n",
    "        rewards = env_info.rewards                         # get reward (for each agent)\n",
    "        dones = env_info.local_done                        # see if episode finished\n",
    "        scores += env_info.rewards                         # update the score (for each agent)\n",
    "        states = next_states                               # roll over states to next time step\n",
    "        if np.any(dones):                                  # exit loop if episode finished\n",
    "            break\n",
    "    print('Total score (averaged over agents) this episode: {}'.format(np.mean(scores)))"
   ]
  },
  {
   "cell_type": "markdown",
   "metadata": {},
   "source": [
    "When finished, you can close the environment."
   ]
  },
  {
   "cell_type": "code",
   "execution_count": null,
   "metadata": {},
   "outputs": [],
   "source": [
    "env.close()"
   ]
  },
  {
   "cell_type": "markdown",
   "metadata": {},
   "source": [
    "### 4. It's Your Turn!\n",
    "\n",
    "Now it's your turn to train your own agent to solve the environment!  A few **important notes**:\n",
    "- When training the environment, set `train_mode=True`, so that the line for resetting the environment looks like the following:\n",
    "```python\n",
    "env_info = env.reset(train_mode=True)[brain_name]\n",
    "```\n",
    "- To structure your work, you're welcome to work directly in this Jupyter notebook, or you might like to start over with a new file!  You can see the list of files in the workspace by clicking on **_Jupyter_** in the top left corner of the notebook.\n",
    "- In this coding environment, you will not be able to watch the agents while they are training.  However, **_after training the agents_**, you can download the saved model weights to watch the agents on your own machine! "
   ]
  },
  {
   "cell_type": "markdown",
   "metadata": {},
   "source": [
    "# My Implementation"
   ]
  },
  {
   "cell_type": "code",
   "execution_count": null,
   "metadata": {},
   "outputs": [],
   "source": [
    "!pip install torch"
   ]
  },
  {
   "cell_type": "code",
   "execution_count": 1,
   "metadata": {},
   "outputs": [
    {
     "name": "stdout",
     "output_type": "stream",
     "text": [
      "Using device: cuda:0\n"
     ]
    }
   ],
   "source": [
    "import numpy as np\n",
    "import random\n",
    "import matplotlib.pyplot as plt\n",
    "from collections import deque, namedtuple\n",
    "import torch\n",
    "import torch.nn as nn\n",
    "import torch.nn.functional as F\n",
    "import torch.optim as optim\n",
    "from unityagents import UnityEnvironment\n",
    "from tqdm import tqdm\n",
    "import os\n",
    "import json\n",
    "from datetime import datetime\n",
    "import copy\n",
    "\n",
    "# Set device\n",
    "device = torch.device(\"cuda:0\" if torch.cuda.is_available() else \"cpu\")\n",
    "print(f\"Using device: {device}\")"
   ]
  },
  {
   "cell_type": "code",
   "execution_count": 2,
   "metadata": {},
   "outputs": [],
   "source": [
    "def hidden_init(layer):\n",
    "    fan_in = layer.weight.data.size()[0]\n",
    "    lim = 1. / np.sqrt(fan_in)\n",
    "    return (-lim, lim)\n",
    "\n",
    "class Actor(nn.Module):\n",
    "    \"\"\"Actor (Policy) Model.\"\"\"\n",
    "    \n",
    "    def __init__(self, state_size, action_size, seed, fc1_units=256, fc2_units=128):\n",
    "        super(Actor, self).__init__()\n",
    "        self.seed = torch.manual_seed(seed)\n",
    "        self.fc1 = nn.Linear(state_size, fc1_units)\n",
    "        self.bn1 = nn.BatchNorm1d(fc1_units)\n",
    "        self.fc2 = nn.Linear(fc1_units, fc2_units)\n",
    "        self.fc3 = nn.Linear(fc2_units, action_size)\n",
    "        self.reset_parameters()\n",
    "\n",
    "    def reset_parameters(self):\n",
    "        self.fc1.weight.data.uniform_(*hidden_init(self.fc1))\n",
    "        self.fc2.weight.data.uniform_(*hidden_init(self.fc2))\n",
    "        self.fc3.weight.data.uniform_(-3e-3, 3e-3)\n",
    "\n",
    "    def forward(self, state):\n",
    "        if state.dim() == 1:\n",
    "            state = state.unsqueeze(0)\n",
    "        x = F.relu(self.bn1(self.fc1(state)))\n",
    "        x = F.relu(self.fc2(x))\n",
    "        return torch.tanh(self.fc3(x))\n",
    "\n",
    "\n",
    "class Critic(nn.Module):\n",
    "    \"\"\"Critic (Value) Model.\"\"\"\n",
    "    \n",
    "    def __init__(self, full_state_size, full_action_size, seed, fcs1_units=256, fc2_units=128):\n",
    "        super(Critic, self).__init__()\n",
    "        self.seed = torch.manual_seed(seed)\n",
    "        self.fcs1 = nn.Linear(full_state_size, fcs1_units)\n",
    "        self.bn1 = nn.BatchNorm1d(fcs1_units)\n",
    "        self.fc2 = nn.Linear(fcs1_units + full_action_size, fc2_units)\n",
    "        self.fc3 = nn.Linear(fc2_units, 1)\n",
    "        self.reset_parameters()\n",
    "\n",
    "    def reset_parameters(self):\n",
    "        self.fcs1.weight.data.uniform_(*hidden_init(self.fcs1))\n",
    "        self.fc2.weight.data.uniform_(*hidden_init(self.fc2))\n",
    "        self.fc3.weight.data.uniform_(-3e-3, 3e-3)\n",
    "\n",
    "    def forward(self, state, action):\n",
    "        if state.dim() == 1:\n",
    "            state = state.unsqueeze(0)\n",
    "        xs = F.relu(self.bn1(self.fcs1(state)))\n",
    "        x = torch.cat((xs, action), dim=1)\n",
    "        x = F.relu(self.fc2(x))\n",
    "        return self.fc3(x)"
   ]
  },
  {
   "cell_type": "code",
   "execution_count": 3,
   "metadata": {},
   "outputs": [],
   "source": [
    "class ReplayBuffer:\n",
    "    \"\"\"Fixed replay buffer to store experience tuples.\"\"\"\n",
    "\n",
    "    def __init__(self, buffer_size, batch_size, seed):\n",
    "        self.memory = deque(maxlen=buffer_size)\n",
    "        self.batch_size = batch_size\n",
    "        self.experience = namedtuple(\"Experience\", \n",
    "                                    field_names=[\"states\", \"actions\", \"rewards\", \"next_states\", \"dones\"])\n",
    "        random.seed(seed)\n",
    "        np.random.seed(seed)\n",
    "    \n",
    "    def add(self, states, actions, rewards, next_states, dones):\n",
    "        \"\"\"Add a new experience to memory.\"\"\"\n",
    "        e = self.experience(states, actions, rewards, next_states, dones)\n",
    "        self.memory.append(e)\n",
    "    \n",
    "    def sample(self):\n",
    "        \"\"\"Randomly sample a batch of experiences from memory.\"\"\"\n",
    "        experiences = random.sample(self.memory, k=self.batch_size)\n",
    "        \n",
    "        states = torch.FloatTensor(np.array([e.states for e in experiences])).to(device)\n",
    "        actions = torch.FloatTensor(np.array([e.actions for e in experiences])).to(device)\n",
    "        rewards = torch.FloatTensor(np.array([e.rewards for e in experiences])).to(device)\n",
    "        next_states = torch.FloatTensor(np.array([e.next_states for e in experiences])).to(device)\n",
    "        dones = torch.FloatTensor(np.array([e.dones for e in experiences])).to(device)\n",
    "        \n",
    "        return (states, actions, rewards, next_states, dones)\n",
    "    \n",
    "    def __len__(self):\n",
    "        return len(self.memory)"
   ]
  },
  {
   "cell_type": "code",
   "execution_count": 4,
   "metadata": {},
   "outputs": [],
   "source": [
    "class OUNoise:\n",
    "    \"\"\"Ornstein-Uhlenbeck process.\"\"\"\n",
    "\n",
    "    def __init__(self, size, seed, mu=0., theta=0.15, sigma=0.01):\n",
    "        \"\"\"Initialize parameters and noise process.\n",
    "        Note: Using lower sigma (0.05) for more stable learning.\"\"\"\n",
    "        self.size = size\n",
    "        self.mu = mu * np.ones(size)\n",
    "        self.theta = theta\n",
    "        self.sigma = sigma\n",
    "        random.seed(seed)\n",
    "        self.reset()\n",
    "\n",
    "    def reset(self):\n",
    "        \"\"\"Reset the internal state (= noise) to mean (mu).\"\"\"\n",
    "        self.state = copy.copy(self.mu)\n",
    "\n",
    "    def sample(self):\n",
    "        \"\"\"Update internal state and return it as a noise sample.\"\"\"\n",
    "        x = self.state\n",
    "        dx = self.theta * (self.mu - x) + self.sigma * np.random.standard_normal(self.size)\n",
    "        self.state = x + dx\n",
    "        return self.state"
   ]
  },
  {
   "cell_type": "code",
   "execution_count": 5,
   "metadata": {},
   "outputs": [],
   "source": [
    "class DDPGAgent:\n",
    "    \"\"\"Single DDPG Agent.\"\"\"\n",
    "    \n",
    "    def __init__(self, state_size, action_size, agent_id, num_agents, random_seed):\n",
    "        self.state_size = state_size\n",
    "        self.action_size = action_size\n",
    "        self.seed = random.seed(random_seed)\n",
    "        self.agent_id = agent_id\n",
    "        self.num_agents = num_agents\n",
    "        \n",
    "        # Hyperparameters\n",
    "        self.lr_actor = 5e-4  \n",
    "        self.lr_critic = 1e-3\n",
    "        self.weight_decay = 0\n",
    "        self.tau = 5e-3\n",
    "        self.gamma = 0.99\n",
    "        \n",
    "        # Actor Network\n",
    "        self.actor_local = Actor(state_size, action_size, random_seed).to(device)\n",
    "        self.actor_target = Actor(state_size, action_size, random_seed).to(device)\n",
    "        self.actor_optimizer = optim.Adam(self.actor_local.parameters(), lr=self.lr_actor)\n",
    "        \n",
    "        # Critic Network\n",
    "        self.critic_local = Critic(state_size * num_agents, \n",
    "                                  action_size * num_agents, \n",
    "                                  random_seed).to(device)\n",
    "        self.critic_target = Critic(state_size * num_agents, \n",
    "                                   action_size * num_agents, \n",
    "                                   random_seed).to(device)\n",
    "        self.critic_optimizer = optim.Adam(self.critic_local.parameters(), \n",
    "                                          lr=self.lr_critic, \n",
    "                                          weight_decay=self.weight_decay)\n",
    "        \n",
    "        # Initialize target networks\n",
    "        self.hard_update()\n",
    "    \n",
    "    def hard_update(self):\n",
    "        \"\"\"Hard update model parameters.\"\"\"\n",
    "        for target_param, local_param in zip(self.actor_target.parameters(), \n",
    "                                            self.actor_local.parameters()):\n",
    "            target_param.data.copy_(local_param.data)\n",
    "            \n",
    "        for target_param, local_param in zip(self.critic_target.parameters(), \n",
    "                                            self.critic_local.parameters()):\n",
    "            target_param.data.copy_(local_param.data)\n",
    "    \n",
    "    def act(self, state):\n",
    "        \"\"\"Returns actions for given state.\"\"\"\n",
    "        state = torch.from_numpy(state).float().to(device)\n",
    "        self.actor_local.eval()\n",
    "        with torch.no_grad():\n",
    "            action = self.actor_local(state).cpu().data.numpy()\n",
    "        self.actor_local.train()\n",
    "        return action.flatten()\n",
    "    \n",
    "    def learn_critic(self, states, actions, rewards, next_states, next_actions, dones):\n",
    "        \"\"\"Update critic network.\"\"\"\n",
    "        Q_targets_next = self.critic_target(next_states, next_actions)\n",
    "        Q_targets = rewards + (self.gamma * Q_targets_next * (1 - dones))\n",
    "        Q_expected = self.critic_local(states, actions)\n",
    "        critic_loss = F.mse_loss(Q_expected, Q_targets)\n",
    "        \n",
    "        self.critic_optimizer.zero_grad()\n",
    "        critic_loss.backward()\n",
    "        torch.nn.utils.clip_grad_norm_(self.critic_local.parameters(), 1)\n",
    "        self.critic_optimizer.step()\n",
    "    \n",
    "    def learn_actor(self, states, predicted_actions):\n",
    "        \"\"\"Update actor network.\"\"\"\n",
    "        actor_loss = -self.critic_local(states, predicted_actions).mean()\n",
    "        \n",
    "        self.actor_optimizer.zero_grad()\n",
    "        actor_loss.backward()\n",
    "        torch.nn.utils.clip_grad_norm_(self.actor_local.parameters(), 1)\n",
    "        self.actor_optimizer.step()\n",
    "    \n",
    "    def soft_update(self):\n",
    "        \"\"\"Soft update model parameters.\"\"\"\n",
    "        for target_param, local_param in zip(self.actor_target.parameters(), \n",
    "                                            self.actor_local.parameters()):\n",
    "            target_param.data.copy_(self.tau * local_param.data + \n",
    "                                   (1.0 - self.tau) * target_param.data)\n",
    "            \n",
    "        for target_param, local_param in zip(self.critic_target.parameters(), \n",
    "                                            self.critic_local.parameters()):\n",
    "            target_param.data.copy_(self.tau * local_param.data + \n",
    "                                   (1.0 - self.tau) * target_param.data)\n"
   ]
  },
  {
   "cell_type": "code",
   "execution_count": 6,
   "metadata": {},
   "outputs": [],
   "source": [
    "class MADDPGAgent:\n",
    "    \"\"\"Multi-Agent DDPG.\"\"\"\n",
    "    \n",
    "    def __init__(self, state_size, action_size, num_agents, random_seed):\n",
    "        self.state_size = state_size\n",
    "        self.action_size = action_size\n",
    "        self.num_agents = num_agents\n",
    "        self.seed = random.seed(random_seed)\n",
    "        \n",
    "        # Hyperparameters\n",
    "        self.buffer_size = int(1e6)\n",
    "        self.batch_size = 64\n",
    "        self.update_every = 1\n",
    "        self.num_updates = 5  \n",
    "        \n",
    "        # Create agents\n",
    "        self.agents = []\n",
    "        for i in range(num_agents):\n",
    "            agent = DDPGAgent(state_size, action_size, i, num_agents, random_seed)\n",
    "            self.agents.append(agent)\n",
    "        \n",
    "        # Shared replay buffer\n",
    "        self.memory = ReplayBuffer(self.buffer_size, self.batch_size, random_seed)\n",
    "        \n",
    "        # Noise process\n",
    "        self.noise = OUNoise((num_agents, action_size), random_seed, sigma=0.05)\n",
    "        self.t_step = 0\n",
    "    \n",
    "    def reset(self):\n",
    "        \"\"\"Reset noise.\"\"\"\n",
    "        self.noise.reset()\n",
    "    \n",
    "    def act(self, states, add_noise=True):\n",
    "        \"\"\"Get actions from all agents.\"\"\"\n",
    "        actions = np.zeros((self.num_agents, self.action_size))\n",
    "        \n",
    "        for i, agent in enumerate(self.agents):\n",
    "            action = agent.act(states[i])\n",
    "            actions[i] = action\n",
    "        \n",
    "        if add_noise:\n",
    "            actions += self.noise.sample()\n",
    "        \n",
    "        return np.clip(actions, -1, 1)\n",
    "    \n",
    "    def step(self, states, actions, rewards, next_states, dones):\n",
    "        \"\"\"Save experience and learn.\"\"\"\n",
    "        self.memory.add(states, actions, rewards, next_states, dones)\n",
    "        \n",
    "        self.t_step = (self.t_step + 1) % self.update_every\n",
    "        if self.t_step == 0:\n",
    "            if len(self.memory) > self.batch_size:\n",
    "                for _ in range(self.num_updates):\n",
    "                    experiences = self.memory.sample()\n",
    "                    self.learn(experiences)\n",
    "    \n",
    "    def learn(self, experiences):\n",
    "        \"\"\"Update all agents.\"\"\"\n",
    "        states, actions, rewards, next_states, dones = experiences\n",
    "        \n",
    "        # Reshape for proper dimensions\n",
    "        batch_size = states.shape[0]\n",
    "        states_full = states.view(batch_size, -1)\n",
    "        next_states_full = next_states.view(batch_size, -1)\n",
    "        actions_full = actions.view(batch_size, -1)\n",
    "        \n",
    "        # Update each agent\n",
    "        for agent_idx, agent in enumerate(self.agents):\n",
    "            # Agent-specific rewards and dones\n",
    "            agent_rewards = rewards[:, agent_idx].unsqueeze(-1)\n",
    "            agent_dones = dones[:, agent_idx].unsqueeze(-1)\n",
    "            \n",
    "            # Get next actions from all agents\n",
    "            next_actions = []\n",
    "            for i, other_agent in enumerate(self.agents):\n",
    "                next_action = other_agent.actor_target(next_states[:, i, :])\n",
    "                next_actions.append(next_action)\n",
    "            next_actions_full = torch.cat(next_actions, dim=1)\n",
    "            \n",
    "            # Update critic\n",
    "            agent.learn_critic(states_full, actions_full, agent_rewards, \n",
    "                              next_states_full, next_actions_full, agent_dones)\n",
    "            \n",
    "            # Get current actions for actor update\n",
    "            predicted_actions = []\n",
    "            for i, other_agent in enumerate(self.agents):\n",
    "                if i == agent_idx:\n",
    "                    predicted_action = agent.actor_local(states[:, i, :])\n",
    "                else:\n",
    "                    predicted_action = other_agent.actor_local(states[:, i, :]).detach()\n",
    "                predicted_actions.append(predicted_action)\n",
    "            predicted_actions_full = torch.cat(predicted_actions, dim=1)\n",
    "            \n",
    "            # Update actor\n",
    "            agent.learn_actor(states_full, predicted_actions_full)\n",
    "            \n",
    "            # Soft update target networks\n",
    "            agent.soft_update()"
   ]
  },
  {
   "cell_type": "code",
   "execution_count": 7,
   "metadata": {},
   "outputs": [],
   "source": [
    "class Config:\n",
    "    def __init__(self):\n",
    "        self.env_path = \"/data/Tennis_Linux_NoVis/Tennis\"\n",
    "        self.episodes = 2000\n",
    "        self.max_t = 1000\n",
    "        self.save_every = 100\n",
    "        self.print_every = 100\n",
    "        self.save_threshold = 0.5\n",
    "        self.seed = 42\n",
    "        self.warmup_episodes = 300\n",
    "\n",
    "def set_seeds(seed):\n",
    "    \"\"\"Set all random seeds for reproducibility.\"\"\"\n",
    "    np.random.seed(seed)\n",
    "    random.seed(seed)\n",
    "    torch.manual_seed(seed)\n",
    "    if torch.cuda.is_available():\n",
    "        torch.cuda.manual_seed(seed)"
   ]
  },
  {
   "cell_type": "code",
   "execution_count": 8,
   "metadata": {},
   "outputs": [],
   "source": [
    "def train_maddpg(env, agent, config):\n",
    "    \"\"\"Train the MADDPG agent.\"\"\"\n",
    "    brain_name = env.brain_names[0]\n",
    "    \n",
    "    scores_deque = deque(maxlen=100)\n",
    "    scores_list = []\n",
    "    avg_scores_list = []\n",
    "    max_avg_score = -np.inf\n",
    "    \n",
    "    # Warm-up phase with random actions\n",
    "    print(f\"🔥 Warm-up phase: {config.warmup_episodes} episodes with random actions\")\n",
    "    for i in tqdm(range(config.warmup_episodes), desc=\"Warm-up\"):\n",
    "        env_info = env.reset(train_mode=True)[brain_name]\n",
    "        states = env_info.vector_observations\n",
    "        \n",
    "        for t in range(config.max_t):\n",
    "            actions = np.random.randn(agent.num_agents, agent.action_size)\n",
    "            actions = np.clip(actions, -1, 1)\n",
    "            \n",
    "            env_info = env.step(actions)[brain_name]\n",
    "            next_states = env_info.vector_observations\n",
    "            rewards = env_info.rewards\n",
    "            dones = env_info.local_done\n",
    "            \n",
    "            # No need to amplify during warm-up - just store raw experiences\n",
    "            agent.memory.add(states, actions, rewards, next_states, dones)\n",
    "            states = next_states\n",
    "            \n",
    "            if np.any(dones):\n",
    "                break\n",
    "    \n",
    "    print(f\"✓ Warm-up complete. Buffer size: {len(agent.memory)}\")\n",
    "    \n",
    "    # Training loop\n",
    "    print(\"\\n🚀 Starting training...\")\n",
    "    with tqdm(range(1, config.episodes + 1), desc=\"Training\") as pbar:\n",
    "        for i_episode in pbar:\n",
    "            env_info = env.reset(train_mode=True)[brain_name]\n",
    "            states = env_info.vector_observations\n",
    "            agent.reset()\n",
    "            scores = np.zeros(agent.num_agents)  # Initialize scores for this episode\n",
    "            \n",
    "            for t in range(config.max_t):\n",
    "                # Get actions\n",
    "                actions = agent.act(states, add_noise=True)\n",
    "                \n",
    "                # Step environment\n",
    "                env_info = env.step(actions)[brain_name]\n",
    "                next_states = env_info.vector_observations\n",
    "                rewards = env_info.rewards\n",
    "                dones = env_info.local_done\n",
    "                \n",
    "                # Amplify rewards for learning (helps with sparse rewards)\n",
    "                amplified_rewards = np.array(rewards) * 5.0\n",
    "                \n",
    "                # Store experience with amplified rewards for better learning\n",
    "                agent.step(states, actions, amplified_rewards, next_states, dones)\n",
    "                \n",
    "                states = next_states\n",
    "                scores += rewards  # Use original rewards for accurate scoring\n",
    "                \n",
    "                if np.any(dones):\n",
    "                    break\n",
    "            \n",
    "            # Track scores\n",
    "            max_score = np.max(scores)\n",
    "            scores_deque.append(max_score)\n",
    "            scores_list.append(max_score)\n",
    "            avg_score = np.mean(scores_deque)\n",
    "            avg_scores_list.append(avg_score)\n",
    "            \n",
    "            # Update progress bar\n",
    "            pbar.set_postfix({'Avg': f'{avg_score:.3f}', 'Max': f'{max_score:.3f}'})\n",
    "            \n",
    "            # Print progress\n",
    "            if i_episode % config.print_every == 0:\n",
    "                tqdm.write(f'Episode {i_episode}\\tAverage Score: {avg_score:.3f}')\n",
    "            \n",
    "            # Save best model\n",
    "            if avg_score > max_avg_score:\n",
    "                max_avg_score = avg_score\n",
    "                if avg_score > 0.01:  # Only save meaningful improvements\n",
    "                    for idx, ddpg_agent in enumerate(agent.agents):\n",
    "                        torch.save(ddpg_agent.actor_local.state_dict(), \n",
    "                                 f'best_actor_{idx}.pth')\n",
    "                        torch.save(ddpg_agent.critic_local.state_dict(), \n",
    "                                 f'best_critic_{idx}.pth')\n",
    "                    if avg_score > 0.1:  # Announce milestones\n",
    "                        tqdm.write(f'★ New best: {avg_score:.3f}')\n",
    "            \n",
    "            # Check if solved\n",
    "            if avg_score >= config.save_threshold:\n",
    "                tqdm.write(f'\\n🎉 Environment solved in {i_episode} episodes!')\n",
    "                tqdm.write(f'Average Score: {avg_score:.3f}')\n",
    "                \n",
    "                # Save final model\n",
    "                for idx, ddpg_agent in enumerate(agent.agents):\n",
    "                    torch.save(ddpg_agent.actor_local.state_dict(), \n",
    "                             f'solved_actor_{idx}.pth')\n",
    "                    torch.save(ddpg_agent.critic_local.state_dict(), \n",
    "                             f'solved_critic_{idx}.pth')\n",
    "                break\n",
    "    \n",
    "    return scores_list, avg_scores_list"
   ]
  },
  {
   "cell_type": "code",
   "execution_count": 9,
   "metadata": {},
   "outputs": [],
   "source": [
    "def plot_scores(scores, avg_scores):\n",
    "    \"\"\"Plot training progress.\"\"\"\n",
    "    fig = plt.figure(figsize=(12, 5))\n",
    "    \n",
    "    # Episode scores\n",
    "    ax1 = fig.add_subplot(121)\n",
    "    ax1.plot(scores, alpha=0.5, color='blue', label='Episode Score')\n",
    "    ax1.plot(avg_scores, color='red', linewidth=2, label='Average (100 eps)')\n",
    "    ax1.axhline(y=0.5, color='green', linestyle='--', label='Target')\n",
    "    ax1.set_xlabel('Episode')\n",
    "    ax1.set_ylabel('Score')\n",
    "    ax1.set_title('Training Progress')\n",
    "    ax1.legend()\n",
    "    ax1.grid(alpha=0.3)\n",
    "    \n",
    "    # Moving average\n",
    "    ax2 = fig.add_subplot(122)\n",
    "    ax2.plot(avg_scores, color='red', linewidth=2)\n",
    "    ax2.fill_between(range(len(avg_scores)), avg_scores, alpha=0.3, color='red')\n",
    "    ax2.axhline(y=0.5, color='green', linestyle='--', label='Target')\n",
    "    ax2.set_xlabel('Episode')\n",
    "    ax2.set_ylabel('Average Score')\n",
    "    ax2.set_title('100-Episode Moving Average')\n",
    "    ax2.legend()\n",
    "    ax2.grid(alpha=0.3)\n",
    "    \n",
    "    plt.tight_layout()\n",
    "    plt.savefig('training_progress.png')\n",
    "    plt.show()\n",
    "    \n",
    "    return fig\n"
   ]
  },
  {
   "cell_type": "code",
   "execution_count": 10,
   "metadata": {},
   "outputs": [],
   "source": [
    "def test_agent(env, agent, n_episodes=10):\n",
    "    \"\"\"Test the trained agent.\"\"\"\n",
    "    brain_name = env.brain_names[0]\n",
    "    scores = []\n",
    "    \n",
    "    for i_episode in range(1, n_episodes + 1):\n",
    "        env_info = env.reset(train_mode=False)[brain_name]\n",
    "        states = env_info.vector_observations\n",
    "        agent.reset()\n",
    "        episode_scores = np.zeros(agent.num_agents)\n",
    "        \n",
    "        while True:\n",
    "            actions = agent.act(states, add_noise=False)\n",
    "            env_info = env.step(actions)[brain_name]\n",
    "            states = env_info.vector_observations\n",
    "            rewards = env_info.rewards\n",
    "            dones = env_info.local_done\n",
    "            episode_scores += rewards\n",
    "            \n",
    "            if np.any(dones):\n",
    "                break\n",
    "        \n",
    "        score = np.max(episode_scores)\n",
    "        scores.append(score)\n",
    "        print(f'Episode {i_episode}: {score:.3f}')\n",
    "    \n",
    "    print(f'\\nAverage Score: {np.mean(scores):.3f}')\n",
    "    return scores"
   ]
  },
  {
   "cell_type": "code",
   "execution_count": 11,
   "metadata": {},
   "outputs": [],
   "source": [
    "def main():\n",
    "    # Configuration\n",
    "    config = Config()\n",
    "    set_seeds(config.seed)\n",
    "    \n",
    "    print(\"🎮 Tennis Environment MADDPG Training\")\n",
    "    print(f\"📍 Device: {device}\")\n",
    "    print(\"=\" * 50)\n",
    "    \n",
    "    # Initialize environment\n",
    "    env = UnityEnvironment(file_name=config.env_path)\n",
    "    brain_name = env.brain_names[0]\n",
    "    brain = env.brains[brain_name]\n",
    "    env_info = env.reset(train_mode=True)[brain_name]\n",
    "    \n",
    "    # Environment info\n",
    "    num_agents = len(env_info.agents)\n",
    "    state_size = env_info.vector_observations.shape[1]\n",
    "    action_size = brain.vector_action_space_size\n",
    "    \n",
    "    print(f\"Agents: {num_agents}\")\n",
    "    print(f\"State size: {state_size}\")\n",
    "    print(f\"Action size: {action_size}\")\n",
    "    print(\"=\" * 50)\n",
    "    \n",
    "    # Create agent\n",
    "    agent = MADDPGAgent(state_size, action_size, num_agents, config.seed)\n",
    "    \n",
    "    # Train\n",
    "    scores, avg_scores = train_maddpg(env, agent, config)\n",
    "    \n",
    "    # Plot results\n",
    "    if scores:\n",
    "        plot_scores(scores, avg_scores)\n",
    "        print(f\"\\n📊 Best average score: {max(avg_scores):.3f}\")\n",
    "        \n",
    "        # Test the trained agent\n",
    "        print(\"\\n🎮 Testing trained agent...\")\n",
    "        test_scores = test_agent(env, agent, n_episodes=10)\n",
    "    \n",
    "    # Close environment\n",
    "    env.close()\n",
    "    print(\"\\n✅ Complete!\")\n",
    "    \n",
    "    return agent, scores"
   ]
  },
  {
   "cell_type": "code",
   "execution_count": 12,
   "metadata": {
    "scrolled": true
   },
   "outputs": [
    {
     "name": "stdout",
     "output_type": "stream",
     "text": [
      "🎮 Tennis Environment MADDPG Training\n",
      "📍 Device: cuda:0\n",
      "==================================================\n",
      "Found path: /data/Tennis_Linux_NoVis/Tennis.x86_64\n",
      "Mono path[0] = '/data/Tennis_Linux_NoVis/Tennis_Data/Managed'\n",
      "Mono config path = '/data/Tennis_Linux_NoVis/Tennis_Data/MonoBleedingEdge/etc'\n",
      "Preloaded 'libgrpc_csharp_ext.x64.so'\n",
      "Unable to preload the following plugins:\n",
      "\tlibgrpc_csharp_ext.x86.so\n",
      "Logging to /home/student/.config/unity3d/Unity Technologies/Unity Environment/Player.log\n"
     ]
    },
    {
     "name": "stderr",
     "output_type": "stream",
     "text": [
      "INFO:unityagents:\n",
      "'Academy' started successfully!\n",
      "Unity Academy name: Academy\n",
      "        Number of Brains: 1\n",
      "        Number of External Brains : 1\n",
      "        Lesson number : 0\n",
      "        Reset Parameters :\n",
      "\t\t\n",
      "Unity brain name: TennisBrain\n",
      "        Number of Visual Observations (per agent): 0\n",
      "        Vector Observation space type: continuous\n",
      "        Vector Observation space size (per agent): 8\n",
      "        Number of stacked Vector Observation: 3\n",
      "        Vector Action space type: continuous\n",
      "        Vector Action space size (per agent): 2\n",
      "        Vector Action descriptions: , \n"
     ]
    },
    {
     "name": "stdout",
     "output_type": "stream",
     "text": [
      "Agents: 2\n",
      "State size: 24\n",
      "Action size: 2\n",
      "==================================================\n",
      "🔥 Warm-up phase: 300 episodes with random actions\n"
     ]
    },
    {
     "name": "stderr",
     "output_type": "stream",
     "text": [
      "Warm-up: 100%|██████████| 300/300 [00:57<00:00,  5.23it/s]\n"
     ]
    },
    {
     "name": "stdout",
     "output_type": "stream",
     "text": [
      "✓ Warm-up complete. Buffer size: 5557\n",
      "\n",
      "🚀 Starting training...\n"
     ]
    },
    {
     "name": "stderr",
     "output_type": "stream",
     "text": [
      "Training:   5%|▌         | 100/2000 [02:47<1:18:30,  2.48s/it, Avg=0.005, Max=0.090]"
     ]
    },
    {
     "name": "stdout",
     "output_type": "stream",
     "text": [
      "Episode 100\tAverage Score: 0.005\n"
     ]
    },
    {
     "name": "stderr",
     "output_type": "stream",
     "text": [
      "Training:  10%|█         | 200/2000 [07:32<3:39:00,  7.30s/it, Avg=0.058, Max=0.100]"
     ]
    },
    {
     "name": "stdout",
     "output_type": "stream",
     "text": [
      "Episode 200\tAverage Score: 0.058\n"
     ]
    },
    {
     "name": "stderr",
     "output_type": "stream",
     "text": [
      "Training:  14%|█▎        | 273/2000 [13:03<8:52:16, 18.49s/it, Avg=0.103, Max=1.200]"
     ]
    },
    {
     "name": "stdout",
     "output_type": "stream",
     "text": [
      "★ New best: 0.103\n"
     ]
    },
    {
     "name": "stderr",
     "output_type": "stream",
     "text": [
      "Training:  14%|█▍        | 275/2000 [13:18<6:29:13, 13.54s/it, Avg=0.105, Max=0.300]"
     ]
    },
    {
     "name": "stdout",
     "output_type": "stream",
     "text": [
      "★ New best: 0.105\n"
     ]
    },
    {
     "name": "stderr",
     "output_type": "stream",
     "text": [
      "Training:  14%|█▍        | 276/2000 [13:30<6:12:10, 12.95s/it, Avg=0.107, Max=0.300]"
     ]
    },
    {
     "name": "stdout",
     "output_type": "stream",
     "text": [
      "★ New best: 0.107\n"
     ]
    },
    {
     "name": "stderr",
     "output_type": "stream",
     "text": [
      "Training:  14%|█▍        | 277/2000 [13:33<4:48:16, 10.04s/it, Avg=0.108, Max=0.100]"
     ]
    },
    {
     "name": "stdout",
     "output_type": "stream",
     "text": [
      "★ New best: 0.108\n"
     ]
    },
    {
     "name": "stderr",
     "output_type": "stream",
     "text": [
      "Training:  14%|█▍        | 278/2000 [14:09<8:36:15, 17.99s/it, Avg=0.117, Max=0.900]"
     ]
    },
    {
     "name": "stdout",
     "output_type": "stream",
     "text": [
      "★ New best: 0.117\n"
     ]
    },
    {
     "name": "stderr",
     "output_type": "stream",
     "text": [
      "Training:  14%|█▍        | 281/2000 [14:17<3:50:10,  8.03s/it, Avg=0.117, Max=0.100]"
     ]
    },
    {
     "name": "stdout",
     "output_type": "stream",
     "text": [
      "★ New best: 0.117\n"
     ]
    },
    {
     "name": "stderr",
     "output_type": "stream",
     "text": [
      "Training:  14%|█▍        | 282/2000 [14:21<3:09:35,  6.62s/it, Avg=0.117, Max=0.100]"
     ]
    },
    {
     "name": "stdout",
     "output_type": "stream",
     "text": [
      "★ New best: 0.117\n"
     ]
    },
    {
     "name": "stderr",
     "output_type": "stream",
     "text": [
      "Training:  14%|█▍        | 283/2000 [14:37<4:29:08,  9.41s/it, Avg=0.120, Max=0.400]"
     ]
    },
    {
     "name": "stdout",
     "output_type": "stream",
     "text": [
      "★ New best: 0.120\n"
     ]
    },
    {
     "name": "stderr",
     "output_type": "stream",
     "text": [
      "Training:  14%|█▍        | 285/2000 [14:52<4:18:28,  9.04s/it, Avg=0.123, Max=0.300]"
     ]
    },
    {
     "name": "stdout",
     "output_type": "stream",
     "text": [
      "★ New best: 0.123\n"
     ]
    },
    {
     "name": "stderr",
     "output_type": "stream",
     "text": [
      "Training:  14%|█▍        | 286/2000 [15:20<7:03:11, 14.81s/it, Avg=0.128, Max=0.690]"
     ]
    },
    {
     "name": "stdout",
     "output_type": "stream",
     "text": [
      "★ New best: 0.128\n"
     ]
    },
    {
     "name": "stderr",
     "output_type": "stream",
     "text": [
      "Training:  14%|█▍        | 287/2000 [15:30<6:18:17, 13.25s/it, Avg=0.129, Max=0.200]"
     ]
    },
    {
     "name": "stdout",
     "output_type": "stream",
     "text": [
      "★ New best: 0.129\n"
     ]
    },
    {
     "name": "stderr",
     "output_type": "stream",
     "text": [
      "Training:  15%|█▍        | 292/2000 [15:43<2:12:19,  4.65s/it, Avg=0.130, Max=0.100]"
     ]
    },
    {
     "name": "stdout",
     "output_type": "stream",
     "text": [
      "★ New best: 0.130\n"
     ]
    },
    {
     "name": "stderr",
     "output_type": "stream",
     "text": [
      "Training:  15%|█▍        | 293/2000 [15:46<1:59:55,  4.22s/it, Avg=0.130, Max=0.090]"
     ]
    },
    {
     "name": "stdout",
     "output_type": "stream",
     "text": [
      "★ New best: 0.130\n"
     ]
    },
    {
     "name": "stderr",
     "output_type": "stream",
     "text": [
      "Training:  15%|█▍        | 296/2000 [15:55<1:41:36,  3.58s/it, Avg=0.131, Max=0.090]"
     ]
    },
    {
     "name": "stdout",
     "output_type": "stream",
     "text": [
      "★ New best: 0.131\n"
     ]
    },
    {
     "name": "stderr",
     "output_type": "stream",
     "text": [
      "Training:  15%|█▍        | 297/2000 [15:59<1:41:37,  3.58s/it, Avg=0.132, Max=0.100]"
     ]
    },
    {
     "name": "stdout",
     "output_type": "stream",
     "text": [
      "★ New best: 0.132\n"
     ]
    },
    {
     "name": "stderr",
     "output_type": "stream",
     "text": [
      "Training:  15%|█▌        | 300/2000 [16:07<1:28:53,  3.14s/it, Avg=0.126, Max=0.090]"
     ]
    },
    {
     "name": "stdout",
     "output_type": "stream",
     "text": [
      "Episode 300\tAverage Score: 0.126\n"
     ]
    },
    {
     "name": "stderr",
     "output_type": "stream",
     "text": [
      "Training:  15%|█▌        | 309/2000 [17:09<4:52:34, 10.38s/it, Avg=0.134, Max=0.500]"
     ]
    },
    {
     "name": "stdout",
     "output_type": "stream",
     "text": [
      "★ New best: 0.134\n"
     ]
    },
    {
     "name": "stderr",
     "output_type": "stream",
     "text": [
      "Training:  16%|█▌        | 311/2000 [17:24<4:20:47,  9.26s/it, Avg=0.136, Max=0.300]"
     ]
    },
    {
     "name": "stdout",
     "output_type": "stream",
     "text": [
      "★ New best: 0.136\n"
     ]
    },
    {
     "name": "stderr",
     "output_type": "stream",
     "text": [
      "Training:  16%|█▌        | 312/2000 [17:27<3:31:04,  7.50s/it, Avg=0.136, Max=0.100]"
     ]
    },
    {
     "name": "stdout",
     "output_type": "stream",
     "text": [
      "★ New best: 0.136\n"
     ]
    },
    {
     "name": "stderr",
     "output_type": "stream",
     "text": [
      "Training:  16%|█▌        | 313/2000 [17:31<2:56:03,  6.26s/it, Avg=0.137, Max=0.090]"
     ]
    },
    {
     "name": "stdout",
     "output_type": "stream",
     "text": [
      "★ New best: 0.137\n"
     ]
    },
    {
     "name": "stderr",
     "output_type": "stream",
     "text": [
      "Training:  16%|█▌        | 315/2000 [17:37<2:14:04,  4.77s/it, Avg=0.138, Max=0.090]"
     ]
    },
    {
     "name": "stdout",
     "output_type": "stream",
     "text": [
      "★ New best: 0.138\n"
     ]
    },
    {
     "name": "stderr",
     "output_type": "stream",
     "text": [
      "Training:  16%|█▌        | 317/2000 [17:53<3:04:51,  6.59s/it, Avg=0.140, Max=0.300]"
     ]
    },
    {
     "name": "stdout",
     "output_type": "stream",
     "text": [
      "★ New best: 0.140\n"
     ]
    },
    {
     "name": "stderr",
     "output_type": "stream",
     "text": [
      "Training:  16%|█▌        | 322/2000 [18:22<3:32:13,  7.59s/it, Avg=0.143, Max=0.400]"
     ]
    },
    {
     "name": "stdout",
     "output_type": "stream",
     "text": [
      "★ New best: 0.143\n"
     ]
    },
    {
     "name": "stderr",
     "output_type": "stream",
     "text": [
      "Training:  16%|█▋        | 328/2000 [18:52<3:14:02,  6.96s/it, Avg=0.144, Max=0.300]"
     ]
    },
    {
     "name": "stdout",
     "output_type": "stream",
     "text": [
      "★ New best: 0.144\n"
     ]
    },
    {
     "name": "stderr",
     "output_type": "stream",
     "text": [
      "Training:  16%|█▋        | 329/2000 [18:55<2:42:03,  5.82s/it, Avg=0.144, Max=0.100]"
     ]
    },
    {
     "name": "stdout",
     "output_type": "stream",
     "text": [
      "★ New best: 0.144\n"
     ]
    },
    {
     "name": "stderr",
     "output_type": "stream",
     "text": [
      "Training:  17%|█▋        | 331/2000 [20:47<16:40:16, 35.96s/it, Avg=0.169, Max=2.600]"
     ]
    },
    {
     "name": "stdout",
     "output_type": "stream",
     "text": [
      "★ New best: 0.169\n"
     ]
    },
    {
     "name": "stderr",
     "output_type": "stream",
     "text": [
      "Training:  17%|█▋        | 333/2000 [21:38<15:14:37, 32.92s/it, Avg=0.180, Max=1.200]"
     ]
    },
    {
     "name": "stdout",
     "output_type": "stream",
     "text": [
      "★ New best: 0.180\n"
     ]
    },
    {
     "name": "stderr",
     "output_type": "stream",
     "text": [
      "Training:  17%|█▋        | 334/2000 [21:52<12:36:02, 27.23s/it, Avg=0.182, Max=0.300]"
     ]
    },
    {
     "name": "stdout",
     "output_type": "stream",
     "text": [
      "★ New best: 0.182\n"
     ]
    },
    {
     "name": "stderr",
     "output_type": "stream",
     "text": [
      "Training:  17%|█▋        | 338/2000 [22:12<5:17:42, 11.47s/it, Avg=0.184, Max=0.300] "
     ]
    },
    {
     "name": "stdout",
     "output_type": "stream",
     "text": [
      "★ New best: 0.184\n"
     ]
    },
    {
     "name": "stderr",
     "output_type": "stream",
     "text": [
      "Training:  17%|█▋        | 339/2000 [22:21<5:01:20, 10.89s/it, Avg=0.185, Max=0.190]"
     ]
    },
    {
     "name": "stdout",
     "output_type": "stream",
     "text": [
      "★ New best: 0.185\n"
     ]
    },
    {
     "name": "stderr",
     "output_type": "stream",
     "text": [
      "Training:  17%|█▋        | 340/2000 [22:29<4:33:15,  9.88s/it, Avg=0.186, Max=0.200]"
     ]
    },
    {
     "name": "stdout",
     "output_type": "stream",
     "text": [
      "★ New best: 0.186\n"
     ]
    },
    {
     "name": "stderr",
     "output_type": "stream",
     "text": [
      "Training:  17%|█▋        | 342/2000 [23:54<13:48:08, 29.97s/it, Avg=0.205, Max=1.900]"
     ]
    },
    {
     "name": "stdout",
     "output_type": "stream",
     "text": [
      "★ New best: 0.205\n"
     ]
    },
    {
     "name": "stderr",
     "output_type": "stream",
     "text": [
      "Training:  17%|█▋        | 344/2000 [24:18<9:43:34, 21.14s/it, Avg=0.206, Max=0.300] "
     ]
    },
    {
     "name": "stdout",
     "output_type": "stream",
     "text": [
      "★ New best: 0.206\n"
     ]
    },
    {
     "name": "stderr",
     "output_type": "stream",
     "text": [
      "Training:  17%|█▋        | 347/2000 [25:08<9:51:47, 21.48s/it, Avg=0.213, Max=1.000]"
     ]
    },
    {
     "name": "stdout",
     "output_type": "stream",
     "text": [
      "★ New best: 0.213\n"
     ]
    },
    {
     "name": "stderr",
     "output_type": "stream",
     "text": [
      "Training:  17%|█▋        | 348/2000 [25:16<7:56:11, 17.30s/it, Avg=0.214, Max=0.200]"
     ]
    },
    {
     "name": "stdout",
     "output_type": "stream",
     "text": [
      "★ New best: 0.214\n"
     ]
    },
    {
     "name": "stderr",
     "output_type": "stream",
     "text": [
      "Training:  18%|█▊        | 350/2000 [25:25<5:03:42, 11.04s/it, Avg=0.215, Max=0.200]"
     ]
    },
    {
     "name": "stdout",
     "output_type": "stream",
     "text": [
      "★ New best: 0.215\n"
     ]
    },
    {
     "name": "stderr",
     "output_type": "stream",
     "text": [
      "Training:  18%|█▊        | 351/2000 [26:24<11:42:04, 25.55s/it, Avg=0.228, Max=1.400]"
     ]
    },
    {
     "name": "stdout",
     "output_type": "stream",
     "text": [
      "★ New best: 0.228\n"
     ]
    },
    {
     "name": "stderr",
     "output_type": "stream",
     "text": [
      "Training:  18%|█▊        | 352/2000 [27:16<15:20:55, 33.53s/it, Avg=0.239, Max=1.200]"
     ]
    },
    {
     "name": "stdout",
     "output_type": "stream",
     "text": [
      "★ New best: 0.239\n"
     ]
    },
    {
     "name": "stderr",
     "output_type": "stream",
     "text": [
      "Training:  18%|█▊        | 355/2000 [27:47<8:49:26, 19.31s/it, Avg=0.242, Max=0.400] "
     ]
    },
    {
     "name": "stdout",
     "output_type": "stream",
     "text": [
      "★ New best: 0.242\n"
     ]
    },
    {
     "name": "stderr",
     "output_type": "stream",
     "text": [
      "Training:  18%|█▊        | 356/2000 [28:46<14:19:59, 31.39s/it, Avg=0.255, Max=1.400]"
     ]
    },
    {
     "name": "stdout",
     "output_type": "stream",
     "text": [
      "★ New best: 0.255\n"
     ]
    },
    {
     "name": "stderr",
     "output_type": "stream",
     "text": [
      "Training:  18%|█▊        | 362/2000 [29:47<8:23:28, 18.44s/it, Avg=0.262, Max=1.000] "
     ]
    },
    {
     "name": "stdout",
     "output_type": "stream",
     "text": [
      "★ New best: 0.262\n"
     ]
    },
    {
     "name": "stderr",
     "output_type": "stream",
     "text": [
      "Training:  18%|█▊        | 364/2000 [31:38<19:08:23, 42.12s/it, Avg=0.288, Max=2.600]"
     ]
    },
    {
     "name": "stdout",
     "output_type": "stream",
     "text": [
      "★ New best: 0.288\n"
     ]
    },
    {
     "name": "stderr",
     "output_type": "stream",
     "text": [
      "Training:  18%|█▊        | 365/2000 [32:19<19:02:48, 41.94s/it, Avg=0.297, Max=1.000]"
     ]
    },
    {
     "name": "stdout",
     "output_type": "stream",
     "text": [
      "★ New best: 0.297\n"
     ]
    },
    {
     "name": "stderr",
     "output_type": "stream",
     "text": [
      "Training:  18%|█▊        | 366/2000 [32:37<15:43:39, 34.65s/it, Avg=0.300, Max=0.400]"
     ]
    },
    {
     "name": "stdout",
     "output_type": "stream",
     "text": [
      "★ New best: 0.300\n"
     ]
    },
    {
     "name": "stderr",
     "output_type": "stream",
     "text": [
      "Training:  18%|█▊        | 367/2000 [32:43<11:44:57, 25.90s/it, Avg=0.301, Max=0.100]"
     ]
    },
    {
     "name": "stdout",
     "output_type": "stream",
     "text": [
      "★ New best: 0.301\n"
     ]
    },
    {
     "name": "stderr",
     "output_type": "stream",
     "text": [
      "Training:  18%|█▊        | 368/2000 [33:02<10:50:21, 23.91s/it, Avg=0.305, Max=0.500]"
     ]
    },
    {
     "name": "stdout",
     "output_type": "stream",
     "text": [
      "★ New best: 0.305\n"
     ]
    },
    {
     "name": "stderr",
     "output_type": "stream",
     "text": [
      "Training:  18%|█▊        | 370/2000 [34:18<15:25:16, 34.06s/it, Avg=0.317, Max=1.700]"
     ]
    },
    {
     "name": "stdout",
     "output_type": "stream",
     "text": [
      "★ New best: 0.317\n"
     ]
    },
    {
     "name": "stderr",
     "output_type": "stream",
     "text": [
      "Training:  19%|█▊        | 372/2000 [36:06<22:05:18, 48.84s/it, Avg=0.341, Max=2.600]"
     ]
    },
    {
     "name": "stdout",
     "output_type": "stream",
     "text": [
      "★ New best: 0.341\n"
     ]
    },
    {
     "name": "stderr",
     "output_type": "stream",
     "text": [
      "Training:  19%|█▊        | 373/2000 [37:30<26:55:53, 59.59s/it, Avg=0.350, Max=2.100]"
     ]
    },
    {
     "name": "stdout",
     "output_type": "stream",
     "text": [
      "★ New best: 0.350\n"
     ]
    },
    {
     "name": "stderr",
     "output_type": "stream",
     "text": [
      "Training:  19%|█▊        | 374/2000 [37:37<19:47:36, 43.82s/it, Avg=0.351, Max=0.100]"
     ]
    },
    {
     "name": "stdout",
     "output_type": "stream",
     "text": [
      "★ New best: 0.351\n"
     ]
    },
    {
     "name": "stderr",
     "output_type": "stream",
     "text": [
      "Training:  19%|█▉        | 375/2000 [39:23<28:12:00, 62.47s/it, Avg=0.374, Max=2.600]"
     ]
    },
    {
     "name": "stdout",
     "output_type": "stream",
     "text": [
      "★ New best: 0.374\n"
     ]
    },
    {
     "name": "stderr",
     "output_type": "stream",
     "text": [
      "Training:  19%|█▉        | 377/2000 [39:50<17:02:59, 37.82s/it, Avg=0.376, Max=0.400]"
     ]
    },
    {
     "name": "stdout",
     "output_type": "stream",
     "text": [
      "★ New best: 0.376\n"
     ]
    },
    {
     "name": "stderr",
     "output_type": "stream",
     "text": [
      "Training:  19%|█▉        | 380/2000 [40:58<14:31:28, 32.28s/it, Avg=0.383, Max=1.500]"
     ]
    },
    {
     "name": "stdout",
     "output_type": "stream",
     "text": [
      "★ New best: 0.383\n"
     ]
    },
    {
     "name": "stderr",
     "output_type": "stream",
     "text": [
      "Training:  19%|█▉        | 381/2000 [41:40<15:47:12, 35.10s/it, Avg=0.392, Max=1.000]"
     ]
    },
    {
     "name": "stdout",
     "output_type": "stream",
     "text": [
      "★ New best: 0.392\n"
     ]
    },
    {
     "name": "stderr",
     "output_type": "stream",
     "text": [
      "Training:  19%|█▉        | 383/2000 [43:14<20:09:47, 44.89s/it, Avg=0.410, Max=2.200]"
     ]
    },
    {
     "name": "stdout",
     "output_type": "stream",
     "text": [
      "★ New best: 0.410\n"
     ]
    },
    {
     "name": "stderr",
     "output_type": "stream",
     "text": [
      "Training:  19%|█▉        | 384/2000 [43:23<15:24:00, 34.31s/it, Avg=0.412, Max=0.200]"
     ]
    },
    {
     "name": "stdout",
     "output_type": "stream",
     "text": [
      "★ New best: 0.412\n"
     ]
    },
    {
     "name": "stderr",
     "output_type": "stream",
     "text": [
      "Training:  19%|█▉        | 388/2000 [44:37<10:55:02, 24.38s/it, Avg=0.418, Max=0.800]"
     ]
    },
    {
     "name": "stdout",
     "output_type": "stream",
     "text": [
      "★ New best: 0.418\n"
     ]
    },
    {
     "name": "stderr",
     "output_type": "stream",
     "text": [
      "Training:  19%|█▉        | 389/2000 [45:41<16:07:31, 36.03s/it, Avg=0.433, Max=1.500]"
     ]
    },
    {
     "name": "stdout",
     "output_type": "stream",
     "text": [
      "★ New best: 0.433\n"
     ]
    },
    {
     "name": "stderr",
     "output_type": "stream",
     "text": [
      "Training:  20%|█▉        | 390/2000 [45:44<11:41:28, 26.14s/it, Avg=0.433, Max=0.100]"
     ]
    },
    {
     "name": "stdout",
     "output_type": "stream",
     "text": [
      "★ New best: 0.433\n"
     ]
    },
    {
     "name": "stderr",
     "output_type": "stream",
     "text": [
      "Training:  20%|█▉        | 391/2000 [47:08<19:32:10, 43.71s/it, Avg=0.453, Max=2.100]"
     ]
    },
    {
     "name": "stdout",
     "output_type": "stream",
     "text": [
      "★ New best: 0.453\n"
     ]
    },
    {
     "name": "stderr",
     "output_type": "stream",
     "text": [
      "Training:  20%|█▉        | 392/2000 [47:18<14:55:33, 33.42s/it, Avg=0.454, Max=0.200]"
     ]
    },
    {
     "name": "stdout",
     "output_type": "stream",
     "text": [
      "★ New best: 0.454\n"
     ]
    },
    {
     "name": "stderr",
     "output_type": "stream",
     "text": [
      "Training:  20%|█▉        | 393/2000 [47:50<14:43:27, 32.99s/it, Avg=0.461, Max=0.800]"
     ]
    },
    {
     "name": "stdout",
     "output_type": "stream",
     "text": [
      "★ New best: 0.461\n"
     ]
    },
    {
     "name": "stderr",
     "output_type": "stream",
     "text": [
      "Training:  20%|█▉        | 394/2000 [48:14<13:30:32, 30.28s/it, Avg=0.466, Max=0.600]"
     ]
    },
    {
     "name": "stdout",
     "output_type": "stream",
     "text": [
      "★ New best: 0.466\n"
     ]
    },
    {
     "name": "stderr",
     "output_type": "stream",
     "text": [
      "Training:  20%|█▉        | 395/2000 [48:23<10:44:28, 24.09s/it, Avg=0.467, Max=0.200]"
     ]
    },
    {
     "name": "stdout",
     "output_type": "stream",
     "text": [
      "★ New best: 0.467\n"
     ]
    },
    {
     "name": "stderr",
     "output_type": "stream",
     "text": [
      "Training:  20%|█▉        | 396/2000 [48:29<8:14:55, 18.51s/it, Avg=0.467, Max=0.100] "
     ]
    },
    {
     "name": "stdout",
     "output_type": "stream",
     "text": [
      "★ New best: 0.467\n"
     ]
    },
    {
     "name": "stderr",
     "output_type": "stream",
     "text": [
      "Training:  20%|█▉        | 398/2000 [48:35<4:44:47, 10.67s/it, Avg=0.468, Max=0.100]"
     ]
    },
    {
     "name": "stdout",
     "output_type": "stream",
     "text": [
      "★ New best: 0.468\n"
     ]
    },
    {
     "name": "stderr",
     "output_type": "stream",
     "text": [
      "Training:  20%|██        | 400/2000 [48:42<3:13:16,  7.25s/it, Avg=0.467, Max=0.100]"
     ]
    },
    {
     "name": "stdout",
     "output_type": "stream",
     "text": [
      "Episode 400\tAverage Score: 0.467\n"
     ]
    },
    {
     "name": "stderr",
     "output_type": "stream",
     "text": [
      "Training:  20%|██        | 401/2000 [48:51<3:21:41,  7.57s/it, Avg=0.468, Max=0.200]"
     ]
    },
    {
     "name": "stdout",
     "output_type": "stream",
     "text": [
      "★ New best: 0.468\n"
     ]
    },
    {
     "name": "stderr",
     "output_type": "stream",
     "text": [
      "Training:  20%|██        | 402/2000 [49:18<6:03:39, 13.65s/it, Avg=0.474, Max=0.700]"
     ]
    },
    {
     "name": "stdout",
     "output_type": "stream",
     "text": [
      "★ New best: 0.474\n"
     ]
    },
    {
     "name": "stderr",
     "output_type": "stream",
     "text": [
      "Training:  20%|██        | 403/2000 [51:05<18:24:43, 41.51s/it, Avg=0.499, Max=2.600]"
     ]
    },
    {
     "name": "stdout",
     "output_type": "stream",
     "text": [
      "★ New best: 0.499\n"
     ]
    },
    {
     "name": "stderr",
     "output_type": "stream",
     "text": [
      "Training:  20%|██        | 403/2000 [51:09<3:22:44,  7.62s/it, Avg=0.500, Max=0.100] \n"
     ]
    },
    {
     "name": "stdout",
     "output_type": "stream",
     "text": [
      "★ New best: 0.500\n",
      "\n",
      "🎉 Environment solved in 404 episodes!\n",
      "Average Score: 0.500\n"
     ]
    },
    {
     "data": {
      "image/png": "[encoded data removed]",
      "text/plain": [
       "<Figure size 1200x500 with 2 Axes>"
      ]
     },
     "metadata": {},
     "output_type": "display_data"
    },
    {
     "name": "stdout",
     "output_type": "stream",
     "text": [
      "\n",
      "📊 Best average score: 0.500\n",
      "\n",
      "🎮 Testing trained agent...\n",
      "Episode 1: 0.100\n",
      "Episode 2: 0.200\n",
      "Episode 3: 2.600\n",
      "Episode 4: 2.700\n",
      "Episode 5: 0.100\n",
      "Episode 6: 0.200\n",
      "Episode 7: 2.600\n",
      "Episode 8: 0.000\n",
      "Episode 9: 2.600\n",
      "Episode 10: 1.700\n",
      "\n",
      "Average Score: 1.280\n",
      "\n",
      "✅ Complete!\n"
     ]
    }
   ],
   "source": [
    "if __name__ == \"__main__\":\n",
    "    agent, scores = main()"
   ]
  },
  {
   "cell_type": "code",
   "execution_count": null,
   "metadata": {},
   "outputs": [],
   "source": []
  }
 ],
 "metadata": {
  "kernelspec": {
   "display_name": "Python 3 (ipykernel)",
   "language": "python",
   "name": "python3"
  },
  "language_info": {
   "codemirror_mode": {
    "name": "ipython",
    "version": 3
   },
   "file_extension": ".py",
   "mimetype": "text/x-python",
   "name": "python",
   "nbconvert_exporter": "python",
   "pygments_lexer": "ipython3",
   "version": "3.11.0rc1"
  }
 },
 "nbformat": 4,
 "nbformat_minor": 2
}
